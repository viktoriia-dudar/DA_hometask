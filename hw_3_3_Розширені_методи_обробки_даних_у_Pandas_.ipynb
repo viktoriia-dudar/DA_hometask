{
 "cells": [
  {
   "cell_type": "markdown",
   "metadata": {
    "id": "wF6xe36Osbxi"
   },
   "source": [
    "# Домашнє завдання до теми \"Розширені методи обробки даних у Pandas\""
   ]
  },
  {
   "cell_type": "markdown",
   "metadata": {
    "id": "Fa2CIJElO3L3"
   },
   "source": [
    "В цьому домашньому завданні продовжуємо працювати з набором даних `supermarket_sales.csv`."
   ]
  },
  {
   "cell_type": "markdown",
   "metadata": {
    "id": "z0F_6xB-DQi7"
   },
   "source": [
    "0. Імпортуйте бібліотеку pandas та зчитайте дані у змінну `df` типу `pandas.DataFrame`."
   ]
  },
  {
   "cell_type": "code",
   "execution_count": 5,
   "metadata": {
    "id": "-4jR3F-rDQi7"
   },
   "outputs": [],
   "source": [
    "import pandas as pd\n",
    "df = pd.read_csv('../data/supermarket_sales.csv')"
   ]
  },
  {
   "cell_type": "markdown",
   "metadata": {
    "id": "hH26_h5wOLfj"
   },
   "source": [
    "1. Відсортуйте дані за спаданням ціни товара ('Unit price') і виведіть 5 перших рядочків на екран."
   ]
  },
  {
   "cell_type": "code",
   "execution_count": 8,
   "metadata": {
    "id": "C_CMIujQN9s6"
   },
   "outputs": [
    {
     "data": {
      "text/html": [
       "<div>\n",
       "<style scoped>\n",
       "    .dataframe tbody tr th:only-of-type {\n",
       "        vertical-align: middle;\n",
       "    }\n",
       "\n",
       "    .dataframe tbody tr th {\n",
       "        vertical-align: top;\n",
       "    }\n",
       "\n",
       "    .dataframe thead th {\n",
       "        text-align: right;\n",
       "    }\n",
       "</style>\n",
       "<table border=\"1\" class=\"dataframe\">\n",
       "  <thead>\n",
       "    <tr style=\"text-align: right;\">\n",
       "      <th></th>\n",
       "      <th>Invoice ID</th>\n",
       "      <th>Branch</th>\n",
       "      <th>City</th>\n",
       "      <th>Customer type</th>\n",
       "      <th>Gender</th>\n",
       "      <th>Product line</th>\n",
       "      <th>Unit price</th>\n",
       "      <th>Quantity</th>\n",
       "      <th>Tax 5%</th>\n",
       "      <th>Total</th>\n",
       "      <th>Date</th>\n",
       "      <th>Time</th>\n",
       "      <th>Payment</th>\n",
       "      <th>cogs</th>\n",
       "      <th>gross margin percentage</th>\n",
       "      <th>gross income</th>\n",
       "      <th>Rating</th>\n",
       "    </tr>\n",
       "  </thead>\n",
       "  <tbody>\n",
       "    <tr>\n",
       "      <th>983</th>\n",
       "      <td>148-41-7930</td>\n",
       "      <td>C</td>\n",
       "      <td>Naypyitaw</td>\n",
       "      <td>Normal</td>\n",
       "      <td>Male</td>\n",
       "      <td>Health and beauty</td>\n",
       "      <td>99.96</td>\n",
       "      <td>7</td>\n",
       "      <td>34.986</td>\n",
       "      <td>734.706</td>\n",
       "      <td>1/23/2019</td>\n",
       "      <td>10:33</td>\n",
       "      <td>Cash</td>\n",
       "      <td>699.72</td>\n",
       "      <td>4.761905</td>\n",
       "      <td>34.986</td>\n",
       "      <td>6.1</td>\n",
       "    </tr>\n",
       "    <tr>\n",
       "      <th>122</th>\n",
       "      <td>219-22-9386</td>\n",
       "      <td>B</td>\n",
       "      <td>Mandalay</td>\n",
       "      <td>Member</td>\n",
       "      <td>Male</td>\n",
       "      <td>Sports and travel</td>\n",
       "      <td>99.96</td>\n",
       "      <td>9</td>\n",
       "      <td>44.982</td>\n",
       "      <td>944.622</td>\n",
       "      <td>3/9/2019</td>\n",
       "      <td>17:26</td>\n",
       "      <td>Credit card</td>\n",
       "      <td>899.64</td>\n",
       "      <td>4.761905</td>\n",
       "      <td>44.982</td>\n",
       "      <td>4.2</td>\n",
       "    </tr>\n",
       "    <tr>\n",
       "      <th>930</th>\n",
       "      <td>641-62-7288</td>\n",
       "      <td>B</td>\n",
       "      <td>Mandalay</td>\n",
       "      <td>Normal</td>\n",
       "      <td>Male</td>\n",
       "      <td>Home and lifestyle</td>\n",
       "      <td>99.92</td>\n",
       "      <td>6</td>\n",
       "      <td>29.976</td>\n",
       "      <td>629.496</td>\n",
       "      <td>3/24/2019</td>\n",
       "      <td>13:33</td>\n",
       "      <td>Ewallet</td>\n",
       "      <td>599.52</td>\n",
       "      <td>4.761905</td>\n",
       "      <td>29.976</td>\n",
       "      <td>7.1</td>\n",
       "    </tr>\n",
       "    <tr>\n",
       "      <th>494</th>\n",
       "      <td>437-53-3084</td>\n",
       "      <td>B</td>\n",
       "      <td>Mandalay</td>\n",
       "      <td>Normal</td>\n",
       "      <td>Male</td>\n",
       "      <td>Fashion accessories</td>\n",
       "      <td>99.89</td>\n",
       "      <td>2</td>\n",
       "      <td>9.989</td>\n",
       "      <td>209.769</td>\n",
       "      <td>2/26/2019</td>\n",
       "      <td>11:48</td>\n",
       "      <td>Ewallet</td>\n",
       "      <td>199.78</td>\n",
       "      <td>4.761905</td>\n",
       "      <td>9.989</td>\n",
       "      <td>7.1</td>\n",
       "    </tr>\n",
       "    <tr>\n",
       "      <th>283</th>\n",
       "      <td>667-92-0055</td>\n",
       "      <td>A</td>\n",
       "      <td>Yangon</td>\n",
       "      <td>Member</td>\n",
       "      <td>Male</td>\n",
       "      <td>Health and beauty</td>\n",
       "      <td>99.83</td>\n",
       "      <td>6</td>\n",
       "      <td>29.949</td>\n",
       "      <td>628.929</td>\n",
       "      <td>3/4/2019</td>\n",
       "      <td>15:02</td>\n",
       "      <td>Ewallet</td>\n",
       "      <td>598.98</td>\n",
       "      <td>4.761905</td>\n",
       "      <td>29.949</td>\n",
       "      <td>8.5</td>\n",
       "    </tr>\n",
       "  </tbody>\n",
       "</table>\n",
       "</div>"
      ],
      "text/plain": [
       "      Invoice ID Branch       City Customer type Gender         Product line  \\\n",
       "983  148-41-7930      C  Naypyitaw        Normal   Male    Health and beauty   \n",
       "122  219-22-9386      B   Mandalay        Member   Male    Sports and travel   \n",
       "930  641-62-7288      B   Mandalay        Normal   Male   Home and lifestyle   \n",
       "494  437-53-3084      B   Mandalay        Normal   Male  Fashion accessories   \n",
       "283  667-92-0055      A     Yangon        Member   Male    Health and beauty   \n",
       "\n",
       "     Unit price  Quantity  Tax 5%    Total       Date   Time      Payment  \\\n",
       "983       99.96         7  34.986  734.706  1/23/2019  10:33         Cash   \n",
       "122       99.96         9  44.982  944.622   3/9/2019  17:26  Credit card   \n",
       "930       99.92         6  29.976  629.496  3/24/2019  13:33      Ewallet   \n",
       "494       99.89         2   9.989  209.769  2/26/2019  11:48      Ewallet   \n",
       "283       99.83         6  29.949  628.929   3/4/2019  15:02      Ewallet   \n",
       "\n",
       "       cogs  gross margin percentage  gross income  Rating  \n",
       "983  699.72                 4.761905        34.986     6.1  \n",
       "122  899.64                 4.761905        44.982     4.2  \n",
       "930  599.52                 4.761905        29.976     7.1  \n",
       "494  199.78                 4.761905         9.989     7.1  \n",
       "283  598.98                 4.761905        29.949     8.5  "
      ]
     },
     "execution_count": 8,
     "metadata": {},
     "output_type": "execute_result"
    }
   ],
   "source": [
    "df.sort_values(by=\"Unit price\", ascending=False).head(5)"
   ]
  },
  {
   "cell_type": "markdown",
   "metadata": {
    "id": "H7IyOIfIONXy"
   },
   "source": [
    "2. Знайдіть інвойс (рядок в даних) в категорії товарів Electronic accessories, в якому був куплений товар з найбільшою кількістю і найбільшою ціною. Виведіть цей рядок даних на екран."
   ]
  },
  {
   "cell_type": "code",
   "execution_count": 210,
   "metadata": {},
   "outputs": [],
   "source": [
    "filter_1 = df[df['Product line'] == 'Electronic accessories']"
   ]
  },
  {
   "cell_type": "code",
   "execution_count": 214,
   "metadata": {},
   "outputs": [
    {
     "data": {
      "text/html": [
       "<div>\n",
       "<style scoped>\n",
       "    .dataframe tbody tr th:only-of-type {\n",
       "        vertical-align: middle;\n",
       "    }\n",
       "\n",
       "    .dataframe tbody tr th {\n",
       "        vertical-align: top;\n",
       "    }\n",
       "\n",
       "    .dataframe thead th {\n",
       "        text-align: right;\n",
       "    }\n",
       "</style>\n",
       "<table border=\"1\" class=\"dataframe\">\n",
       "  <thead>\n",
       "    <tr style=\"text-align: right;\">\n",
       "      <th></th>\n",
       "      <th>Invoice ID</th>\n",
       "      <th>Branch</th>\n",
       "      <th>City</th>\n",
       "      <th>Customer type</th>\n",
       "      <th>Gender</th>\n",
       "      <th>Product line</th>\n",
       "      <th>Unit price</th>\n",
       "      <th>Quantity</th>\n",
       "      <th>Tax 5%</th>\n",
       "      <th>Total</th>\n",
       "      <th>Date</th>\n",
       "      <th>Time</th>\n",
       "      <th>Payment</th>\n",
       "      <th>cogs</th>\n",
       "      <th>gross margin percentage</th>\n",
       "      <th>gross income</th>\n",
       "      <th>Rating</th>\n",
       "    </tr>\n",
       "  </thead>\n",
       "  <tbody>\n",
       "    <tr>\n",
       "      <th>209</th>\n",
       "      <td>817-69-8206</td>\n",
       "      <td>B</td>\n",
       "      <td>Mandalay</td>\n",
       "      <td>Normal</td>\n",
       "      <td>Female</td>\n",
       "      <td>Electronic accessories</td>\n",
       "      <td>99.73</td>\n",
       "      <td>9</td>\n",
       "      <td>44.8785</td>\n",
       "      <td>942.4485</td>\n",
       "      <td>3/2/2019</td>\n",
       "      <td>19:42</td>\n",
       "      <td>Credit card</td>\n",
       "      <td>897.57</td>\n",
       "      <td>4.761905</td>\n",
       "      <td>44.8785</td>\n",
       "      <td>6.5</td>\n",
       "    </tr>\n",
       "  </tbody>\n",
       "</table>\n",
       "</div>"
      ],
      "text/plain": [
       "      Invoice ID Branch      City Customer type  Gender  \\\n",
       "209  817-69-8206      B  Mandalay        Normal  Female   \n",
       "\n",
       "               Product line  Unit price  Quantity   Tax 5%     Total  \\\n",
       "209  Electronic accessories       99.73         9  44.8785  942.4485   \n",
       "\n",
       "         Date   Time      Payment    cogs  gross margin percentage  \\\n",
       "209  3/2/2019  19:42  Credit card  897.57                 4.761905   \n",
       "\n",
       "     gross income  Rating  \n",
       "209       44.8785     6.5  "
      ]
     },
     "execution_count": 214,
     "metadata": {},
     "output_type": "execute_result"
    }
   ],
   "source": [
    "filter_1.sort_values(by=['Unit price', 'Quantity'], ascending=[False, False]).head(1)"
   ]
  },
  {
   "cell_type": "markdown",
   "metadata": {
    "id": "n2iSihPRDHvv"
   },
   "source": [
    "3.1. Створіть нову колонку в даних `Rating Category`, яка визначає категорію рейтингу: високий, середній чи низький за наступним правилом:\n",
    "- якщо рейтинг вищий або рівний 8 - то він високий (`High`)\n",
    "- якщо рейтинг від 6 до 8 не включаючи - то він середній (`Medium`)\n",
    "- інакше - низький (`Low`)."
   ]
  },
  {
   "cell_type": "code",
   "execution_count": 334,
   "metadata": {},
   "outputs": [],
   "source": [
    "def category_mapping(val):\n",
    "    if val < 6:\n",
    "        return 'Low'\n",
    "    elif val < 8:\n",
    "        return 'Medium'\n",
    "    else:\n",
    "        return 'High'"
   ]
  },
  {
   "cell_type": "code",
   "execution_count": 336,
   "metadata": {
    "id": "WfYpk_VdD_sI"
   },
   "outputs": [],
   "source": [
    "df['Rating Category'] = df.Rating.apply(category_mapping)"
   ]
  },
  {
   "cell_type": "code",
   "execution_count": 348,
   "metadata": {},
   "outputs": [
    {
     "data": {
      "text/html": [
       "<div>\n",
       "<style scoped>\n",
       "    .dataframe tbody tr th:only-of-type {\n",
       "        vertical-align: middle;\n",
       "    }\n",
       "\n",
       "    .dataframe tbody tr th {\n",
       "        vertical-align: top;\n",
       "    }\n",
       "\n",
       "    .dataframe thead th {\n",
       "        text-align: right;\n",
       "    }\n",
       "</style>\n",
       "<table border=\"1\" class=\"dataframe\">\n",
       "  <thead>\n",
       "    <tr style=\"text-align: right;\">\n",
       "      <th></th>\n",
       "      <th>Invoice ID</th>\n",
       "      <th>Branch</th>\n",
       "      <th>City</th>\n",
       "      <th>Customer type</th>\n",
       "      <th>Gender</th>\n",
       "      <th>Product line</th>\n",
       "      <th>Unit price</th>\n",
       "      <th>Quantity</th>\n",
       "      <th>Tax 5%</th>\n",
       "      <th>Total</th>\n",
       "      <th>Date</th>\n",
       "      <th>Time</th>\n",
       "      <th>Payment</th>\n",
       "      <th>cogs</th>\n",
       "      <th>gross margin percentage</th>\n",
       "      <th>gross income</th>\n",
       "      <th>Rating</th>\n",
       "      <th>Rating Category</th>\n",
       "      <th>Hour</th>\n",
       "    </tr>\n",
       "  </thead>\n",
       "  <tbody>\n",
       "    <tr>\n",
       "      <th>0</th>\n",
       "      <td>750-67-8428</td>\n",
       "      <td>A</td>\n",
       "      <td>Yangon</td>\n",
       "      <td>Member</td>\n",
       "      <td>Female</td>\n",
       "      <td>Health and beauty</td>\n",
       "      <td>74.69</td>\n",
       "      <td>7</td>\n",
       "      <td>26.1415</td>\n",
       "      <td>548.9715</td>\n",
       "      <td>1/5/2019</td>\n",
       "      <td>13:08</td>\n",
       "      <td>Ewallet</td>\n",
       "      <td>522.83</td>\n",
       "      <td>4.761905</td>\n",
       "      <td>26.1415</td>\n",
       "      <td>9.1</td>\n",
       "      <td>High</td>\n",
       "      <td>13</td>\n",
       "    </tr>\n",
       "    <tr>\n",
       "      <th>1</th>\n",
       "      <td>226-31-3081</td>\n",
       "      <td>C</td>\n",
       "      <td>Naypyitaw</td>\n",
       "      <td>Normal</td>\n",
       "      <td>Female</td>\n",
       "      <td>Electronic accessories</td>\n",
       "      <td>15.28</td>\n",
       "      <td>5</td>\n",
       "      <td>3.8200</td>\n",
       "      <td>80.2200</td>\n",
       "      <td>3/8/2019</td>\n",
       "      <td>10:29</td>\n",
       "      <td>Cash</td>\n",
       "      <td>76.40</td>\n",
       "      <td>4.761905</td>\n",
       "      <td>3.8200</td>\n",
       "      <td>9.6</td>\n",
       "      <td>High</td>\n",
       "      <td>10</td>\n",
       "    </tr>\n",
       "    <tr>\n",
       "      <th>2</th>\n",
       "      <td>631-41-3108</td>\n",
       "      <td>A</td>\n",
       "      <td>Yangon</td>\n",
       "      <td>Normal</td>\n",
       "      <td>Male</td>\n",
       "      <td>Home and lifestyle</td>\n",
       "      <td>46.33</td>\n",
       "      <td>7</td>\n",
       "      <td>16.2155</td>\n",
       "      <td>340.5255</td>\n",
       "      <td>3/3/2019</td>\n",
       "      <td>13:23</td>\n",
       "      <td>Credit card</td>\n",
       "      <td>324.31</td>\n",
       "      <td>4.761905</td>\n",
       "      <td>16.2155</td>\n",
       "      <td>7.4</td>\n",
       "      <td>Medium</td>\n",
       "      <td>13</td>\n",
       "    </tr>\n",
       "    <tr>\n",
       "      <th>3</th>\n",
       "      <td>123-19-1176</td>\n",
       "      <td>A</td>\n",
       "      <td>Yangon</td>\n",
       "      <td>Member</td>\n",
       "      <td>Male</td>\n",
       "      <td>Health and beauty</td>\n",
       "      <td>58.22</td>\n",
       "      <td>8</td>\n",
       "      <td>23.2880</td>\n",
       "      <td>489.0480</td>\n",
       "      <td>1/27/2019</td>\n",
       "      <td>20:33</td>\n",
       "      <td>Ewallet</td>\n",
       "      <td>465.76</td>\n",
       "      <td>4.761905</td>\n",
       "      <td>23.2880</td>\n",
       "      <td>8.4</td>\n",
       "      <td>High</td>\n",
       "      <td>20</td>\n",
       "    </tr>\n",
       "    <tr>\n",
       "      <th>4</th>\n",
       "      <td>373-73-7910</td>\n",
       "      <td>A</td>\n",
       "      <td>Yangon</td>\n",
       "      <td>Normal</td>\n",
       "      <td>Male</td>\n",
       "      <td>Sports and travel</td>\n",
       "      <td>86.31</td>\n",
       "      <td>7</td>\n",
       "      <td>30.2085</td>\n",
       "      <td>634.3785</td>\n",
       "      <td>2/8/2019</td>\n",
       "      <td>10:37</td>\n",
       "      <td>Ewallet</td>\n",
       "      <td>604.17</td>\n",
       "      <td>4.761905</td>\n",
       "      <td>30.2085</td>\n",
       "      <td>5.3</td>\n",
       "      <td>Low</td>\n",
       "      <td>10</td>\n",
       "    </tr>\n",
       "  </tbody>\n",
       "</table>\n",
       "</div>"
      ],
      "text/plain": [
       "    Invoice ID Branch       City Customer type  Gender  \\\n",
       "0  750-67-8428      A     Yangon        Member  Female   \n",
       "1  226-31-3081      C  Naypyitaw        Normal  Female   \n",
       "2  631-41-3108      A     Yangon        Normal    Male   \n",
       "3  123-19-1176      A     Yangon        Member    Male   \n",
       "4  373-73-7910      A     Yangon        Normal    Male   \n",
       "\n",
       "             Product line  Unit price  Quantity   Tax 5%     Total       Date  \\\n",
       "0       Health and beauty       74.69         7  26.1415  548.9715   1/5/2019   \n",
       "1  Electronic accessories       15.28         5   3.8200   80.2200   3/8/2019   \n",
       "2      Home and lifestyle       46.33         7  16.2155  340.5255   3/3/2019   \n",
       "3       Health and beauty       58.22         8  23.2880  489.0480  1/27/2019   \n",
       "4       Sports and travel       86.31         7  30.2085  634.3785   2/8/2019   \n",
       "\n",
       "    Time      Payment    cogs  gross margin percentage  gross income  Rating  \\\n",
       "0  13:08      Ewallet  522.83                 4.761905       26.1415     9.1   \n",
       "1  10:29         Cash   76.40                 4.761905        3.8200     9.6   \n",
       "2  13:23  Credit card  324.31                 4.761905       16.2155     7.4   \n",
       "3  20:33      Ewallet  465.76                 4.761905       23.2880     8.4   \n",
       "4  10:37      Ewallet  604.17                 4.761905       30.2085     5.3   \n",
       "\n",
       "  Rating Category  Hour  \n",
       "0            High    13  \n",
       "1            High    10  \n",
       "2          Medium    13  \n",
       "3            High    20  \n",
       "4             Low    10  "
      ]
     },
     "execution_count": 348,
     "metadata": {},
     "output_type": "execute_result"
    }
   ],
   "source": [
    "df.head(5)"
   ]
  },
  {
   "cell_type": "markdown",
   "metadata": {
    "id": "0tTSRjXDEdDe"
   },
   "source": [
    "3.2. Виведіть, який відсоток даних становить кожне зі значень категорій рейтингу."
   ]
  },
  {
   "cell_type": "code",
   "execution_count": 350,
   "metadata": {
    "id": "gYd_Y96ODS3a"
   },
   "outputs": [
    {
     "data": {
      "text/plain": [
       "Rating Category\n",
       "Medium    0.356\n",
       "High      0.329\n",
       "Low       0.315\n",
       "Name: proportion, dtype: float64"
      ]
     },
     "execution_count": 350,
     "metadata": {},
     "output_type": "execute_result"
    }
   ],
   "source": [
    "df['Rating Category'].value_counts(normalize=True)"
   ]
  },
  {
   "cell_type": "markdown",
   "metadata": {
    "id": "qGPne8sFHGGM"
   },
   "source": [
    "4.1. Запустіть код нижче аби створити змінну `time`. Ця змінна містить час в форматі \"година:хвилина\". Напишіть функцію `get_hour`, яка буде зі змінної формату як `time` дістати лише години і конвертувати їх у тип `int`.\n",
    "\n",
    "Запустіть написану функцію на змінній `time` та перевірте правильність роботи функції."
   ]
  },
  {
   "cell_type": "code",
   "execution_count": 264,
   "metadata": {
    "id": "OZ2DD2AGEZme"
   },
   "outputs": [],
   "source": [
    "time = '11:28'"
   ]
  },
  {
   "cell_type": "code",
   "execution_count": 299,
   "metadata": {
    "id": "BxDWBPalHimp"
   },
   "outputs": [],
   "source": [
    "def get_hour(x: str):\n",
    "    return int(x[:2])"
   ]
  },
  {
   "cell_type": "code",
   "execution_count": 304,
   "metadata": {},
   "outputs": [
    {
     "data": {
      "text/plain": [
       "11"
      ]
     },
     "execution_count": 304,
     "metadata": {},
     "output_type": "execute_result"
    }
   ],
   "source": [
    "get_hour(time)"
   ]
  },
  {
   "cell_type": "markdown",
   "metadata": {
    "id": "3F7Nmc84IM9C"
   },
   "source": [
    "4.2. З допомогою функції `get_hour` і метода `DataFrame.apply()` створіть нову колонку `Hour` в нашому наборі даних, яка буде містити години здійснення покупки, обчислені на основі часу здійснення покупки `Time`."
   ]
  },
  {
   "cell_type": "code",
   "execution_count": 306,
   "metadata": {
    "id": "P-DQNIwQH_Io"
   },
   "outputs": [],
   "source": [
    "df['Hour'] = df['Time'].apply(get_hour)"
   ]
  },
  {
   "cell_type": "markdown",
   "metadata": {
    "id": "VcuugIB2IszQ"
   },
   "source": [
    "4.3. Виведіть кількість значень за кожною годиною покупки і дайте відповідь \"О яких годинах найбільше здійснюють покупок покупці і чому на Ваш погляд саме о цих годинах? Чи це слогічно, що найбільше покупок саме в ці години?\"."
   ]
  },
  {
   "cell_type": "code",
   "execution_count": 309,
   "metadata": {
    "id": "5NgTbHM8I-Or",
    "scrolled": true
   },
   "outputs": [
    {
     "data": {
      "text/plain": [
       "Hour\n",
       "19    113\n",
       "13    103\n",
       "15    102\n",
       "10    101\n",
       "18     93\n",
       "11     90\n",
       "12     89\n",
       "14     83\n",
       "16     77\n",
       "20     75\n",
       "17     74\n",
       "Name: count, dtype: int64"
      ]
     },
     "execution_count": 309,
     "metadata": {},
     "output_type": "execute_result"
    }
   ],
   "source": [
    "df['Hour'].value_counts()"
   ]
  },
  {
   "cell_type": "markdown",
   "metadata": {},
   "source": [
    "Найбільшу кількість покупок здійснюють покупці о 19, 13, 15, 10 та 18 год. Загалом значення 19, 18 та 13 год - цілком логічні, оскільки люди працездатного віку часто роблять покупки після завершення робочого часу або в обідню перерву. Значення 15 або 10 год - досить цікаві, можливо у цей час роблять покупки люди старшого віку, які зараз на пенсії і мають більше вільного часу вдень."
   ]
  },
  {
   "cell_type": "markdown",
   "metadata": {
    "id": "vUniX9GAKtco"
   },
   "source": [
    "5. Виведіть середнє значення чеку (`Total`) для покупок в містах, наявних в даних, за допомогою функції `groupby`."
   ]
  },
  {
   "cell_type": "code",
   "execution_count": 320,
   "metadata": {
    "id": "eWRBQoO_JBY3"
   },
   "outputs": [
    {
     "data": {
      "text/plain": [
       "City\n",
       "Mandalay     319.872506\n",
       "Naypyitaw    337.099715\n",
       "Yangon       312.354031\n",
       "Name: Total, dtype: float64"
      ]
     },
     "execution_count": 320,
     "metadata": {},
     "output_type": "execute_result"
    }
   ],
   "source": [
    "df.groupby(\"City\").Total.mean()"
   ]
  },
  {
   "cell_type": "markdown",
   "metadata": {
    "id": "kgXBFApjLQxp"
   },
   "source": [
    "6. Виведіть кількість покупок, середнє, мінімальне та максимальне значення для загальної суми чеку (Total) в містах, наявних в даних, за допомогою функції groupby.\n",
    "Зробіть висновки з цих показників та дайте рекомендації для мережі супермаркетів."
   ]
  },
  {
   "cell_type": "code",
   "execution_count": 326,
   "metadata": {
    "id": "qdspE5eWK0bq"
   },
   "outputs": [
    {
     "data": {
      "text/html": [
       "<div>\n",
       "<style scoped>\n",
       "    .dataframe tbody tr th:only-of-type {\n",
       "        vertical-align: middle;\n",
       "    }\n",
       "\n",
       "    .dataframe tbody tr th {\n",
       "        vertical-align: top;\n",
       "    }\n",
       "\n",
       "    .dataframe thead th {\n",
       "        text-align: right;\n",
       "    }\n",
       "</style>\n",
       "<table border=\"1\" class=\"dataframe\">\n",
       "  <thead>\n",
       "    <tr style=\"text-align: right;\">\n",
       "      <th></th>\n",
       "      <th>size</th>\n",
       "      <th>mean</th>\n",
       "      <th>min</th>\n",
       "      <th>max</th>\n",
       "    </tr>\n",
       "    <tr>\n",
       "      <th>City</th>\n",
       "      <th></th>\n",
       "      <th></th>\n",
       "      <th></th>\n",
       "      <th></th>\n",
       "    </tr>\n",
       "  </thead>\n",
       "  <tbody>\n",
       "    <tr>\n",
       "      <th>Mandalay</th>\n",
       "      <td>332</td>\n",
       "      <td>319.872506</td>\n",
       "      <td>18.6375</td>\n",
       "      <td>1022.49</td>\n",
       "    </tr>\n",
       "    <tr>\n",
       "      <th>Naypyitaw</th>\n",
       "      <td>328</td>\n",
       "      <td>337.099715</td>\n",
       "      <td>10.6785</td>\n",
       "      <td>1042.65</td>\n",
       "    </tr>\n",
       "    <tr>\n",
       "      <th>Yangon</th>\n",
       "      <td>340</td>\n",
       "      <td>312.354031</td>\n",
       "      <td>12.6945</td>\n",
       "      <td>1039.29</td>\n",
       "    </tr>\n",
       "  </tbody>\n",
       "</table>\n",
       "</div>"
      ],
      "text/plain": [
       "           size        mean      min      max\n",
       "City                                         \n",
       "Mandalay    332  319.872506  18.6375  1022.49\n",
       "Naypyitaw   328  337.099715  10.6785  1042.65\n",
       "Yangon      340  312.354031  12.6945  1039.29"
      ]
     },
     "execution_count": 326,
     "metadata": {},
     "output_type": "execute_result"
    }
   ],
   "source": [
    "df.groupby(\"City\").Total.agg(['size', 'mean', 'min', 'max'])"
   ]
  },
  {
   "cell_type": "markdown",
   "metadata": {
    "id": "_GPVYoEe6M9E"
   },
   "source": [
    "7. Ми внесли деякі зміни в наш набір даних, тож, давайте запишемо результат у файл. Запишіть оновлену версію даних у файл `supermarket_sales_enriched.csv`. Зверніть увагу, аби не записати нічого зайвого, наприклад, індекси рядків нам в файлі не потрібні, оскільки вони стандартні."
   ]
  },
  {
   "cell_type": "code",
   "execution_count": 340,
   "metadata": {
    "id": "MyEE8sAR6ele"
   },
   "outputs": [],
   "source": [
    "df.to_csv('supermarket_sales_enriched.csv', index=False)"
   ]
  },
  {
   "cell_type": "code",
   "execution_count": null,
   "metadata": {},
   "outputs": [],
   "source": []
  }
 ],
 "metadata": {
  "colab": {
   "provenance": []
  },
  "kernelspec": {
   "display_name": "Python 3 (ipykernel)",
   "language": "python",
   "name": "python3"
  },
  "language_info": {
   "codemirror_mode": {
    "name": "ipython",
    "version": 3
   },
   "file_extension": ".py",
   "mimetype": "text/x-python",
   "name": "python",
   "nbconvert_exporter": "python",
   "pygments_lexer": "ipython3",
   "version": "3.12.4"
  }
 },
 "nbformat": 4,
 "nbformat_minor": 4
}
