{
 "cells": [
  {
   "cell_type": "markdown",
   "id": "1561554f",
   "metadata": {
    "id": "1561554f"
   },
   "source": [
    "# Домашнє завдання до теми \"Classes\"\n",
    "В цьому домашньому завданні в деяких задачах є частини коду, та в кожному завданні описано, що з ними треба зробити, часто - просто виконати після того, як ви напишете частину, якої поки не вистачає. Пишіть, будь ласка, код, який реалізує рішення кожного завдання, безпосереньо під формулюванням завдання, створюючи нові клітинки. Можете створювати скільки завгодно клітинок для виконання одного завдання."
   ]
  },
  {
   "cell_type": "markdown",
   "id": "5f983749",
   "metadata": {
    "id": "5f983749"
   },
   "source": [
    "1.Нижче є створений клас \"Shop\". Це клас для визначення магазинів компанії \"АВС\". У кожного магазина є локація і прибуток. Створіть три магазини в трьох окремих змінних:  \n",
    "- один з локацією \"Київ\" та прибутком 5500,   \n",
    "- другий - з локацією \"Львів\" та прибутком 3000,  \n",
    "- третій - з локацією \"Полтава\" та прибутком 2500  \n",
    "\n",
    "Порахуйте після цього суму прибутків трьох магазинів використовуючи інформацію про створені магазини.\n",
    "Виведіть сумарний прибуток на екран."
   ]
  },
  {
   "cell_type": "code",
   "execution_count": 13,
   "id": "84cb2eb2",
   "metadata": {
    "ExecuteTime": {
     "end_time": "2022-10-22T10:05:31.337430Z",
     "start_time": "2022-10-22T10:05:31.321277Z"
    },
    "id": "84cb2eb2"
   },
   "outputs": [],
   "source": [
    "class Shop:\n",
    "    company = 'ABC'\n",
    "\n",
    "    def __init__(self, location, profit):\n",
    "        self.location = location\n",
    "        self.profit = profit"
   ]
  },
  {
   "cell_type": "code",
   "execution_count": 14,
   "id": "170727c8",
   "metadata": {
    "id": "170727c8"
   },
   "outputs": [],
   "source": [
    "Kyiv = Shop('Київ', 5500)\n",
    "Lviv = Shop('Львів', 3000)\n",
    "Poltava = Shop('Полтава', 2500)"
   ]
  },
  {
   "cell_type": "code",
   "execution_count": 72,
   "id": "5f33f598-22de-4148-8679-388b690b2b55",
   "metadata": {},
   "outputs": [],
   "source": [
    "list_profit = (5500, 3000, 2500)"
   ]
  },
  {
   "cell_type": "code",
   "execution_count": 74,
   "id": "e728e6a0-2495-4cd9-8d37-6ddf368aba18",
   "metadata": {},
   "outputs": [],
   "source": [
    "def find_total(*args):\n",
    "        result = 0\n",
    "        \n",
    "        for num in list_profit:\n",
    "            result = result + num\n",
    "    \n",
    "        print(\"Total = \", result)"
   ]
  },
  {
   "cell_type": "code",
   "execution_count": 76,
   "id": "5d89817f-d010-4683-9b76-40a8c65028a6",
   "metadata": {},
   "outputs": [
    {
     "name": "stdout",
     "output_type": "stream",
     "text": [
      "Total =  11000\n"
     ]
    }
   ],
   "source": [
    "find_total(list_profit)"
   ]
  },
  {
   "cell_type": "markdown",
   "id": "3feaa824",
   "metadata": {
    "ExecuteTime": {
     "end_time": "2022-10-22T10:12:49.668479Z",
     "start_time": "2022-10-22T10:12:49.636219Z"
    },
    "id": "3feaa824"
   },
   "source": [
    "2.Створіть клас `Employee`, який при ініціалізації представника класу визначає поля \"Прізвище\", \"Місяць народження\" та \"Зарплата\" та запустіть код нижче."
   ]
  },
  {
   "cell_type": "code",
   "execution_count": 29,
   "id": "5850a071",
   "metadata": {
    "id": "5850a071"
   },
   "outputs": [],
   "source": [
    "class Employee:\n",
    "   \n",
    "    def __init__(self, surname, month_birth, salary):\n",
    "        self.surname = surname\n",
    "        self.month_birth = month_birth\n",
    "        self.salary = salary"
   ]
  },
  {
   "cell_type": "code",
   "execution_count": 31,
   "id": "b0fcc9f2",
   "metadata": {
    "ExecuteTime": {
     "end_time": "2022-10-22T10:17:27.305480Z",
     "start_time": "2022-10-22T10:17:27.302072Z"
    },
    "id": "b0fcc9f2"
   },
   "outputs": [],
   "source": [
    "emp_1 = Employee('Чорненко', 'жовтень', 2000)\n",
    "emp_2 = Employee('Біленко', 'січень', 3000)\n",
    "emp_3 = Employee('Жовтенко', 'березень', 3400)"
   ]
  },
  {
   "cell_type": "markdown",
   "id": "d6d285b8",
   "metadata": {
    "ExecuteTime": {
     "end_time": "2022-10-22T10:17:28.531508Z",
     "start_time": "2022-10-22T10:17:28.526117Z"
    },
    "id": "d6d285b8"
   },
   "source": [
    "3.До класу `Employee` додайте метод `salutate`, який вітатиме з **місяцем** народження. Аби додати метод - скопіюйте просто код з визначенням класа з попереднього завдання і додайте туди новий метод.  \n",
    "Метод має приймати на вхід заданий місяць і\n",
    "- якщо цей місяць співпадає з місяцем народження співробітника, виводить `Вітаємо, пане <прізвище співробітника>! Зараз місяць <назва місяця> у Вас День народження! Будьте здорові!`. Для формування привітання використайте інтерполяцію рядків.\n",
    "- якщо місяць не співпадає з місяцем народження співробітника, метод нічого не вертає.  \n",
    "\n",
    "Коли зробите завдання - запустіть код нижче."
   ]
  },
  {
   "cell_type": "code",
   "execution_count": 175,
   "id": "be3e17d7",
   "metadata": {
    "id": "be3e17d7"
   },
   "outputs": [],
   "source": [
    "class Employee:\n",
    "   \n",
    "    def __init__(self, surname, month_birth, salary):\n",
    "        self.surname = surname\n",
    "        self.month_birth = month_birth\n",
    "        self.salary = salary\n",
    "        \n",
    "    def get_salutate(self, now_month):\n",
    "        self.now_month = now_month\n",
    "        if self.now_month == self.month_birth: \n",
    "            self.salutate = f'Вітаємо, пане {self.surname}! Зараз місяць {self.now_month} у Вас День народження! Будьте здорові!'\n",
    "            print(self.salutate)\n",
    "        else:\n",
    "         return None"
   ]
  },
  {
   "cell_type": "code",
   "execution_count": 134,
   "id": "056e127e",
   "metadata": {
    "ExecuteTime": {
     "end_time": "2022-10-22T10:26:35.300805Z",
     "start_time": "2022-10-22T10:26:35.294501Z"
    },
    "id": "056e127e",
    "scrolled": true
   },
   "outputs": [],
   "source": [
    "emp_1 = Employee('Чорненко', 'жовтень', 2000)\n",
    "emp_2 = Employee('Біленко', 'січень', 3000)\n",
    "emp_3 = Employee('Жовтенко', 'березень', 3400)"
   ]
  },
  {
   "cell_type": "code",
   "execution_count": 136,
   "id": "2e84daac-8943-4a56-a20e-95996a135036",
   "metadata": {},
   "outputs": [
    {
     "name": "stdout",
     "output_type": "stream",
     "text": [
      "Вітаємо, пане Біленко! Зараз місяць січень у Вас День народження! Будьте здорові!\n"
     ]
    }
   ],
   "source": [
    "emp_1.get_salutate('грудень')\n",
    "emp_2.get_salutate('січень')\n",
    "emp_3.get_salutate('травень')"
   ]
  },
  {
   "cell_type": "markdown",
   "id": "ca02deba",
   "metadata": {
    "id": "ca02deba"
   },
   "source": [
    "4.Створіть клас, який наслідує `Employee` та називається `BossEmployee`. У цього класа при ініціалізації є всі ті самі поля, що і в Employee, але також є поле `n_subordinates`, тобто \"кількість підлеглих\".\n",
    "\n",
    "Додайте новоствореному класу метод `add_subordinates`, який додаватиме передану в метод кількість підлеглих цьому босу (тобто буде оновлювати поле класу `n_subordinates`) та буде виводити повідомлення `Вітаємо, пане <прізвище співробітника>! У Вас <введене в метод число> нових співробітників!`. Перевірте, аби кількість нових підлеглих була цілою, якщо це не так, виведіть повідомлення: `Число <введене в метод число, округлене до трьох чисел після коми> не може бути кількістю підлеглих.`.\n",
    "\n",
    "Для формування повідомлень використайте метод форматування рядків, котрий був другим в лекції (з `format` частиною).\n",
    "Коли зробите завдання - запустіть код нижче."
   ]
  },
  {
   "cell_type": "code",
   "execution_count": 412,
   "id": "ac4f01e7",
   "metadata": {
    "id": "ac4f01e7"
   },
   "outputs": [],
   "source": [
    "class BossEmployee(Employee):\n",
    "    def __init__(self, surname, month_birth, salary, n_subordinates):\n",
    "        super().__init__(surname, month_birth, salary)\n",
    "        self.n_subordinates = n_subordinates\n",
    "\n",
    "    def add_subordinates(self, n_subordinates):\n",
    "        self.n_subordinates = n_subordinates \n",
    "        if isinstance(self.n_subordinates, int):\n",
    "            print(\"Вітаємо, пане {}! У Вас {} нових співробітників!\".format(self.surname, n_subordinates))   \n",
    "        else: \n",
    "             print(\"Число {:.3f} не може бути кількістю підлеглих.\".format(n_subordinates))    "
   ]
  },
  {
   "cell_type": "code",
   "execution_count": 414,
   "id": "b6e5e6c0",
   "metadata": {
    "ExecuteTime": {
     "end_time": "2022-10-22T10:44:43.938323Z",
     "start_time": "2022-10-22T10:44:43.932171Z"
    },
    "id": "b6e5e6c0"
   },
   "outputs": [
    {
     "name": "stdout",
     "output_type": "stream",
     "text": [
      "Вітаємо, пане Босенко! У Вас 5 нових співробітників!\n",
      "Число 4.788 не може бути кількістю підлеглих.\n",
      "Вітаємо, пане Босенко! У Вас 4 нових співробітників!\n"
     ]
    },
    {
     "data": {
      "text/plain": [
       "4"
      ]
     },
     "execution_count": 414,
     "metadata": {},
     "output_type": "execute_result"
    }
   ],
   "source": [
    "emp_4 = BossEmployee('Босенко', 'липень', 5500, 3)\n",
    "emp_4.add_subordinates(5)\n",
    "emp_4.add_subordinates(4.78764174)\n",
    "emp_4.add_subordinates(4)\n",
    "emp_4.n_subordinates"
   ]
  },
  {
   "cell_type": "markdown",
   "id": "c3e0bd00",
   "metadata": {
    "id": "c3e0bd00"
   },
   "source": [
    "Очікуваний результат виконання команд вище:\n",
    "```\n",
    "Вітаємо, пане Босенко! У Вас 5 нових співробітників!     \n",
    "Число 4.788 не може бути кількістю підлеглих.\n",
    "Вітаємо, пане Босенко! У Вас 4 нових співробітників!\n",
    "12\n",
    "```"
   ]
  },
  {
   "cell_type": "markdown",
   "id": "441e5d09",
   "metadata": {
    "id": "441e5d09"
   },
   "source": [
    "# Ураа!! Ви завершили ВСІ завдання ДРУГОГО ТЕХНІЧНОГО МОДУЛЮ!!! З кожним ДЗ Ви стаєте з Python все ближче і ближче. Ваші відносини зараз - \"він поставив вогник на вашу сторис\" 😉\n",
    "\n",
    "В кінці курсу будете наче пити з ним просеко на кухні і обговорювати останні мемчики.  \n",
    "\n",
    "Далі - ще цікавіше! 🚀🚀🚀"
   ]
  }
 ],
 "metadata": {
  "colab": {
   "provenance": []
  },
  "kernelspec": {
   "display_name": "Python 3 (ipykernel)",
   "language": "python",
   "name": "python3"
  },
  "language_info": {
   "codemirror_mode": {
    "name": "ipython",
    "version": 3
   },
   "file_extension": ".py",
   "mimetype": "text/x-python",
   "name": "python",
   "nbconvert_exporter": "python",
   "pygments_lexer": "ipython3",
   "version": "3.12.4"
  },
  "toc": {
   "base_numbering": 1,
   "nav_menu": {},
   "number_sections": true,
   "sideBar": true,
   "skip_h1_title": false,
   "title_cell": "Table of Contents",
   "title_sidebar": "Contents",
   "toc_cell": false,
   "toc_position": {},
   "toc_section_display": true,
   "toc_window_display": false
  }
 },
 "nbformat": 4,
 "nbformat_minor": 5
}
