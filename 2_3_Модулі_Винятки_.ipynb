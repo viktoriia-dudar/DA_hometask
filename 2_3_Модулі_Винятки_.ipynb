{
 "cells": [
  {
   "cell_type": "markdown",
   "id": "1561554f",
   "metadata": {
    "id": "1561554f"
   },
   "source": [
    "# Домашнє завдання до теми \"Модулі. Винятки (Exceptions)\"\n",
    "\n"
   ]
  },
  {
   "cell_type": "markdown",
   "id": "c094769a",
   "metadata": {
    "ExecuteTime": {
     "end_time": "2022-10-22T04:15:21.939494Z",
     "start_time": "2022-10-22T04:15:21.933981Z"
    },
    "id": "c094769a"
   },
   "source": [
    "Почнемо з закріплення матеріалу щодо фукнцій і віпрацювання роботи з модулем `random`.\n",
    "\n",
    "1. Напишіть функцію `get_random_int_list`, яка приймає один аргумент - кількість чисел `n`, і повертає список, що містить `n` випадкових цілих чисел з діапазону від 0 до 100 включно. Для генерації випадкових чисел використовуйте модуль `random`.\n",
    "\n",
    "  **Вимоги до реалізації:**\n",
    "\n",
    "  - Функція повинна приймати один аргумент `n` - кількість чисел у списку.\n",
    "  - Для генерації випадкових чисел використовуйте функцію `random.randint(0, 100)`.\n",
    "  - Повернутий список має містити рівно `n` випадкових чисел.\n",
    "\n",
    "  **Приклади виклику функції та очікувані результати:**\n",
    "\n",
    "  1. **Приклад 1:**\n",
    "    - Виклик функції: `get_random_int_list(5)`\n",
    "    - Очікуваний результат: Список з 5 випадковими числами, наприклад, `[23, 77, 45, 8, 91]`. Кожен запуск може повертати різні числа через випадковість.\n",
    "\n",
    "  2. **Приклад 2:**\n",
    "    - Виклик функції: `get_random_int_list(3)`\n",
    "    - Очікуваний результат: Список з 3 випадковими числами, наприклад, `[64, 20, 37]`.\n",
    "\n",
    "  3. **Приклад 3:**\n",
    "    - Виклик функції: `get_random_int_list(0)`\n",
    "    - Очікуваний результат: Порожній список `[]`, оскільки було запитано 0 чисел.\n",
    "\n",
    "Продемонструйте результати робити функції запустивши код нижче."
   ]
  },
  {
   "cell_type": "code",
   "execution_count": 3,
   "id": "ce1760c6-d775-4ee7-a369-44e24e50f8bf",
   "metadata": {},
   "outputs": [],
   "source": [
    "import random"
   ]
  },
  {
   "cell_type": "code",
   "execution_count": 85,
   "id": "22c06c9b-3f45-4412-b86d-9c78883900ef",
   "metadata": {},
   "outputs": [],
   "source": [
    "def get_random_int_list(n):\n",
    "    for i in range(n):\n",
    "        print(random.randint(0, 100))"
   ]
  },
  {
   "cell_type": "code",
   "execution_count": 69,
   "id": "630a13ec-ef34-4fe7-976f-01c1dd6a59e6",
   "metadata": {},
   "outputs": [
    {
     "name": "stdout",
     "output_type": "stream",
     "text": [
      "49\n",
      "9\n",
      "1\n",
      "32\n",
      "82\n"
     ]
    }
   ],
   "source": [
    "get_random_int_list(5)"
   ]
  },
  {
   "cell_type": "code",
   "execution_count": 71,
   "id": "10d7bd3c-6475-4acb-aa82-7c6559ff31b6",
   "metadata": {},
   "outputs": [
    {
     "name": "stdout",
     "output_type": "stream",
     "text": [
      "64\n",
      "41\n",
      "81\n"
     ]
    }
   ],
   "source": [
    "get_random_int_list(3)"
   ]
  },
  {
   "cell_type": "code",
   "execution_count": 79,
   "id": "2a8e3557-6689-4b58-9cef-1d29de5d3933",
   "metadata": {},
   "outputs": [],
   "source": [
    "get_random_int_list(0)"
   ]
  },
  {
   "cell_type": "code",
   "execution_count": 87,
   "id": "XV-QkjcbqZNv",
   "metadata": {
    "id": "XV-QkjcbqZNv"
   },
   "outputs": [
    {
     "name": "stdout",
     "output_type": "stream",
     "text": [
      "30\n",
      "74\n",
      "49\n",
      "12\n",
      "31\n",
      "None\n",
      "72\n",
      "45\n",
      "59\n",
      "None\n",
      "None\n",
      "77\n",
      "96\n",
      "89\n",
      "95\n",
      "29\n",
      "83\n",
      "60\n",
      "18\n",
      "None\n"
     ]
    }
   ],
   "source": [
    "for number in [5, 3, 0, 8]:\n",
    "  print(get_random_int_list(number))"
   ]
  },
  {
   "cell_type": "markdown",
   "id": "iBHEcmV7R34X",
   "metadata": {
    "id": "iBHEcmV7R34X"
   },
   "source": [
    "2. **Конвертер рядка в число**\n",
    "\n",
    "  **Опис завдання:**\n",
    "\n",
    "  Створіть функцію `string_to_int`, яка приймає рядок і намагається перетворити його в ціле число. Якщо рядок не можна перетворити на ціле число, функція повинна обробити виключення про неправильне значення, вивести на екран `\"Некоректне введення\"` і повернути `None`.\n",
    "\n",
    "  **Приклади виклику функції:**\n",
    "\n",
    "  - `string_to_int(\"123\")` повинно повернути `123`.\n",
    "  - `string_to_int(\"abc\")` повинно вивести повідомлення `\"Некоректне введення\"` і повернути `None`."
   ]
  },
  {
   "cell_type": "code",
   "execution_count": 118,
   "id": "5UT2YNrISdLR",
   "metadata": {
    "id": "5UT2YNrISdLR"
   },
   "outputs": [],
   "source": [
    "def string_to_int(string1: str):\n",
    "    try:\n",
    "        result = int(string1)\n",
    "        return result\n",
    "    except ValueError:\n",
    "            print('Некоректне введення')\n",
    "            return None           "
   ]
  },
  {
   "cell_type": "markdown",
   "id": "UbIaPiOHSgE7",
   "metadata": {
    "id": "UbIaPiOHSgE7"
   },
   "source": [
    "Продемонструйте результати робити функції запустивши код нижче."
   ]
  },
  {
   "cell_type": "code",
   "execution_count": 124,
   "id": "AL7sINtwSgcs",
   "metadata": {
    "id": "AL7sINtwSgcs"
   },
   "outputs": [
    {
     "name": "stdout",
     "output_type": "stream",
     "text": [
      "Некоректне введення\n",
      "Некоректне введення\n"
     ]
    },
    {
     "data": {
      "text/plain": [
       "{'123': 123, 'abc': None, '456.78': None, '100': 100}"
      ]
     },
     "execution_count": 124,
     "metadata": {},
     "output_type": "execute_result"
    }
   ],
   "source": [
    "test_inputs = [\"123\", \"abc\", \"456.78\", \"100\"]\n",
    "results = {input_value: string_to_int(input_value) for input_value in test_inputs}\n",
    "results\n"
   ]
  },
  {
   "cell_type": "markdown",
   "id": "KkzLp29pQ1-U",
   "metadata": {
    "id": "KkzLp29pQ1-U"
   },
   "source": [
    "3. **Контроль введення користувача**\n",
    "\n",
    "  Створіть функцію `check_age`, яка приймає на вхід вік користувача у форматі рядок і перевіряє, чи є користувач повнолітнім (18 років і старше). Якщо введене значення не може бути перетворено на ціле число, функція повинна обробити виняток, вивести на екран `\"Некоректне введення. Будь ласка, введіть числове значення.\"` і повернути `False`. Якщо вік користувача менше 18, вивести повідомлення `\"Ви не повнолітній!\"` і також повернути `False`. У випадку, коли вік 18 років або більше, вивести повідомлення `\"Ви повнолітній.\"` і повернути `True`.\n",
    "\n",
    "  **Приклад роботи програми:**\n",
    "\n",
    "  1. Користувач вводить `\"двадцять\"`: програма виводить на екрнан `\"Некоректне введення. Будь ласка, введіть числове значення.\"` і повертає `False`.\n",
    "  2. Користувач вводить `\"17\"`: програма виводить `\"Ви не повнолітній!\"` і повертає `False`.\n",
    "  3. Користувач вводить `\"18\"`: програма виводить `\"Ви повнолітній.\"` і повертає `True`.\n"
   ]
  },
  {
   "cell_type": "code",
   "execution_count": 143,
   "id": "K3PTENm-Ae3-",
   "metadata": {
    "id": "K3PTENm-Ae3-"
   },
   "outputs": [],
   "source": [
    "def check_age(age: str):\n",
    "    try:\n",
    "        if int(age) >= 18:\n",
    "            print(\"Ви повнолітній.\")\n",
    "            return True\n",
    "    except ValueError:\n",
    "        print(\"Некоректне введення. Будь ласка, введіть числове значення.\")\n",
    "        return False  \n",
    "    else: \n",
    "        print(\"Ви не повнолітній!\")\n",
    "        return False         "
   ]
  },
  {
   "cell_type": "markdown",
   "id": "huphMh7YR2GJ",
   "metadata": {
    "id": "huphMh7YR2GJ"
   },
   "source": [
    "Продемонструйте результати робити функції запустивши код нижче."
   ]
  },
  {
   "cell_type": "code",
   "execution_count": 145,
   "id": "YuEQrntVRgSE",
   "metadata": {
    "id": "YuEQrntVRgSE"
   },
   "outputs": [
    {
     "name": "stdout",
     "output_type": "stream",
     "text": [
      "Некоректне введення. Будь ласка, введіть числове значення.\n",
      "Ви не повнолітній!\n",
      "Ви повнолітній.\n"
     ]
    },
    {
     "data": {
      "text/plain": [
       "[False, False, True]"
      ]
     },
     "execution_count": 145,
     "metadata": {},
     "output_type": "execute_result"
    }
   ],
   "source": [
    "test_inputs = [\"двадцять\", \"17\", \"18\"]\n",
    "results = [check_age(input_value) for input_value in test_inputs]\n",
    "results"
   ]
  },
  {
   "cell_type": "markdown",
   "id": "CQg-zIJGTqjw",
   "metadata": {
    "id": "CQg-zIJGTqjw"
   },
   "source": [
    "4. **Обчислення середнього з перевіркою:** Напишіть функцію `calculate_average`, яка приймає на вхід список чисел і обчислює середнє арифметичне значення цих чисел. Функція повинна перевіряти, що всі елементи списку є числами. Якщо серед елементів списку зустрічається елемент, який не є числом, функція повинна вивести повідомлення `\"Всі елементи повинні бути числами\"` і повернути `None`.\n",
    "\n",
    "  **Приклади виклику функції:**\n",
    "\n",
    "  - `calculate_average([1, 2, 3, 4, 5])` повинно повернути `3.0`.\n",
    "  - `calculate_average([1, \"2\", 3])` повинно вивести `\"Всі елементи повинні бути числами\"` і повернути `None`.\n",
    "  - `calculate_average([-1.1, \"ф\", 4])` повинно вивести `\"Всі елементи повинні бути числами\"` і повернути `None`."
   ]
  },
  {
   "cell_type": "code",
   "execution_count": 11,
   "id": "91VU_y5sUAKB",
   "metadata": {
    "id": "91VU_y5sUAKB"
   },
   "outputs": [],
   "source": [
    "def calculate_average(list1: list):\n",
    "    try: \n",
    "         my_average = sum(list1) / len(list1)\n",
    "         print(\"Результат:\", my_average)\n",
    "         return True\n",
    "    except TypeError:\n",
    "            print(\"Всі елементи повинні бути числами\")\n",
    "            return None    "
   ]
  },
  {
   "cell_type": "markdown",
   "id": "ib-JWKKmUeF8",
   "metadata": {
    "id": "ib-JWKKmUeF8"
   },
   "source": [
    "Продемонструйте результати робити функції запустивши код нижче."
   ]
  },
  {
   "cell_type": "code",
   "execution_count": 13,
   "id": "axEmZx0rUNqT",
   "metadata": {
    "id": "axEmZx0rUNqT",
    "scrolled": true
   },
   "outputs": [
    {
     "name": "stdout",
     "output_type": "stream",
     "text": [
      "Результат: 3.0\n",
      "Всі елементи повинні бути числами\n",
      "Результат: 20.0\n",
      "Всі елементи повинні бути числами\n"
     ]
    },
    {
     "data": {
      "text/plain": [
       "[True, None, True, None]"
      ]
     },
     "execution_count": 13,
     "metadata": {},
     "output_type": "execute_result"
    }
   ],
   "source": [
    "test_data = [\n",
    "    [1, 2, 3, 4, 5],  # Коректні дані\n",
    "    [1, \"2\", 3],      # Некоректні дані\n",
    "    [10, 20, 30],     # Коректні дані\n",
    "    [-1.1, \"ф\", 4]    # Некоректні дані\n",
    "]\n",
    "\n",
    "results = [calculate_average(data) for data in test_data]\n",
    "results"
   ]
  }
 ],
 "metadata": {
  "colab": {
   "provenance": []
  },
  "kernelspec": {
   "display_name": "Python 3 (ipykernel)",
   "language": "python",
   "name": "python3"
  },
  "language_info": {
   "codemirror_mode": {
    "name": "ipython",
    "version": 3
   },
   "file_extension": ".py",
   "mimetype": "text/x-python",
   "name": "python",
   "nbconvert_exporter": "python",
   "pygments_lexer": "ipython3",
   "version": "3.12.4"
  },
  "toc": {
   "base_numbering": 1,
   "nav_menu": {},
   "number_sections": true,
   "sideBar": true,
   "skip_h1_title": false,
   "title_cell": "Table of Contents",
   "title_sidebar": "Contents",
   "toc_cell": false,
   "toc_position": {},
   "toc_section_display": true,
   "toc_window_display": false
  }
 },
 "nbformat": 4,
 "nbformat_minor": 5
}
